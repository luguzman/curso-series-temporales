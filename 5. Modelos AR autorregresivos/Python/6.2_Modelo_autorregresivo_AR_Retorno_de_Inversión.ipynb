{
  "nbformat": 4,
  "nbformat_minor": 0,
  "metadata": {
    "kernelspec": {
      "display_name": "Python 3",
      "language": "python",
      "name": "python3"
    },
    "language_info": {
      "codemirror_mode": {
        "name": "ipython",
        "version": 3
      },
      "file_extension": ".py",
      "mimetype": "text/x-python",
      "name": "python",
      "nbconvert_exporter": "python",
      "pygments_lexer": "ipython3",
      "version": "3.6.7"
    },
    "colab": {
      "name": "6_Modelo_autorregresivo_AR_Precios.ipynb",
      "provenance": [],
      "toc_visible": true
    }
  },
  "cells": [
    {
      "cell_type": "markdown",
      "metadata": {
        "id": "NAQIooJIhSxM",
        "colab_type": "text"
      },
      "source": [
        "## Importing the relevant packages\n"
      ]
    },
    {
      "cell_type": "code",
      "metadata": {
        "id": "rhqZ-xV7hSxN",
        "colab_type": "code",
        "colab": {
          "base_uri": "https://localhost:8080/",
          "height": 72
        },
        "outputId": "27c5ef14-57be-4207-f8c7-d14bea29522e"
      },
      "source": [
        "import pandas as pd\n",
        "import numpy as np\n",
        "import matplotlib.pyplot as plt\n",
        "import statsmodels.graphics.tsaplots as sgt\n",
        "from statsmodels.tsa.arima_model import ARMA\n",
        "from scipy.stats.distributions import chi2\n",
        "import statsmodels.tsa.stattools as sts \n",
        "import seaborn as sns\n",
        "sns.set()"
      ],
      "execution_count": 1,
      "outputs": [
        {
          "output_type": "stream",
          "text": [
            "/usr/local/lib/python3.6/dist-packages/statsmodels/tools/_testing.py:19: FutureWarning: pandas.util.testing is deprecated. Use the functions in the public API at pandas.testing instead.\n",
            "  import pandas.util.testing as tm\n"
          ],
          "name": "stderr"
        }
      ]
    },
    {
      "cell_type": "markdown",
      "metadata": {
        "id": "5V81ZHwZhSxR",
        "colab_type": "text"
      },
      "source": [
        "## Importing the Data and Pre-processing "
      ]
    },
    {
      "cell_type": "code",
      "metadata": {
        "id": "pHmb3M4nhSxS",
        "colab_type": "code",
        "colab": {}
      },
      "source": [
        "raw_csv_data = pd.read_csv(\"Index2018.csv\") \n",
        "df=raw_csv_data.copy()\n",
        "df.date = pd.to_datetime(df.date, dayfirst = True)\n",
        "df.set_index(\"date\", inplace=True)\n",
        "df=df.asfreq('b')\n",
        "df=df.fillna(method='ffill')"
      ],
      "execution_count": 16,
      "outputs": []
    },
    {
      "cell_type": "code",
      "metadata": {
        "id": "uYVeq2mLhSxU",
        "colab_type": "code",
        "colab": {}
      },
      "source": [
        "df['market_value']=df.ftse #ftse"
      ],
      "execution_count": 17,
      "outputs": []
    },
    {
      "cell_type": "code",
      "metadata": {
        "id": "1wKEavJ7JVTE",
        "colab_type": "code",
        "colab": {}
      },
      "source": [
        "df['returns'] = df.market_value.pct_change(1).mul(100)"
      ],
      "execution_count": 18,
      "outputs": []
    },
    {
      "cell_type": "code",
      "metadata": {
        "id": "vlcRLbOFKEdP",
        "colab_type": "code",
        "colab": {}
      },
      "source": [
        "df = df.iloc[1:]"
      ],
      "execution_count": 19,
      "outputs": []
    },
    {
      "cell_type": "code",
      "metadata": {
        "id": "5TLmuDVBKAw9",
        "colab_type": "code",
        "colab": {
          "base_uri": "https://localhost:8080/",
          "height": 233
        },
        "outputId": "e61c4319-7f0d-4128-89f7-5c362fe802c3"
      },
      "source": [
        "df.head()"
      ],
      "execution_count": 20,
      "outputs": [
        {
          "output_type": "execute_result",
          "data": {
            "text/html": [
              "<div>\n",
              "<style scoped>\n",
              "    .dataframe tbody tr th:only-of-type {\n",
              "        vertical-align: middle;\n",
              "    }\n",
              "\n",
              "    .dataframe tbody tr th {\n",
              "        vertical-align: top;\n",
              "    }\n",
              "\n",
              "    .dataframe thead th {\n",
              "        text-align: right;\n",
              "    }\n",
              "</style>\n",
              "<table border=\"1\" class=\"dataframe\">\n",
              "  <thead>\n",
              "    <tr style=\"text-align: right;\">\n",
              "      <th></th>\n",
              "      <th>spx</th>\n",
              "      <th>dax</th>\n",
              "      <th>ftse</th>\n",
              "      <th>nikkei</th>\n",
              "      <th>market_value</th>\n",
              "      <th>returns</th>\n",
              "    </tr>\n",
              "    <tr>\n",
              "      <th>date</th>\n",
              "      <th></th>\n",
              "      <th></th>\n",
              "      <th></th>\n",
              "      <th></th>\n",
              "      <th></th>\n",
              "      <th></th>\n",
              "    </tr>\n",
              "  </thead>\n",
              "  <tbody>\n",
              "    <tr>\n",
              "      <th>1994-01-10</th>\n",
              "      <td>475.27</td>\n",
              "      <td>2225.00</td>\n",
              "      <td>3440.58</td>\n",
              "      <td>18443.44</td>\n",
              "      <td>3440.58</td>\n",
              "      <td>-0.156704</td>\n",
              "    </tr>\n",
              "    <tr>\n",
              "      <th>1994-01-11</th>\n",
              "      <td>474.13</td>\n",
              "      <td>2228.10</td>\n",
              "      <td>3413.77</td>\n",
              "      <td>18485.25</td>\n",
              "      <td>3413.77</td>\n",
              "      <td>-0.779229</td>\n",
              "    </tr>\n",
              "    <tr>\n",
              "      <th>1994-01-12</th>\n",
              "      <td>474.17</td>\n",
              "      <td>2182.06</td>\n",
              "      <td>3372.02</td>\n",
              "      <td>18793.88</td>\n",
              "      <td>3372.02</td>\n",
              "      <td>-1.222988</td>\n",
              "    </tr>\n",
              "    <tr>\n",
              "      <th>1994-01-13</th>\n",
              "      <td>472.47</td>\n",
              "      <td>2142.37</td>\n",
              "      <td>3360.01</td>\n",
              "      <td>18577.26</td>\n",
              "      <td>3360.01</td>\n",
              "      <td>-0.356166</td>\n",
              "    </tr>\n",
              "    <tr>\n",
              "      <th>1994-01-14</th>\n",
              "      <td>474.91</td>\n",
              "      <td>2151.05</td>\n",
              "      <td>3400.56</td>\n",
              "      <td>18973.70</td>\n",
              "      <td>3400.56</td>\n",
              "      <td>1.206842</td>\n",
              "    </tr>\n",
              "  </tbody>\n",
              "</table>\n",
              "</div>"
            ],
            "text/plain": [
              "               spx      dax     ftse    nikkei  market_value   returns\n",
              "date                                                                  \n",
              "1994-01-10  475.27  2225.00  3440.58  18443.44       3440.58 -0.156704\n",
              "1994-01-11  474.13  2228.10  3413.77  18485.25       3413.77 -0.779229\n",
              "1994-01-12  474.17  2182.06  3372.02  18793.88       3372.02 -1.222988\n",
              "1994-01-13  472.47  2142.37  3360.01  18577.26       3360.01 -0.356166\n",
              "1994-01-14  474.91  2151.05  3400.56  18973.70       3400.56  1.206842"
            ]
          },
          "metadata": {
            "tags": []
          },
          "execution_count": 20
        }
      ]
    },
    {
      "cell_type": "code",
      "metadata": {
        "id": "-ndvl4BphSxX",
        "colab_type": "code",
        "colab": {}
      },
      "source": [
        "del df['spx']\n",
        "del df['dax']\n",
        "del df['ftse']\n",
        "del df['nikkei']\n",
        "size = int(len(df)*0.8)\n",
        "df, df_test = df.iloc[:size], df.iloc[size:]"
      ],
      "execution_count": 21,
      "outputs": []
    },
    {
      "cell_type": "code",
      "metadata": {
        "id": "Iu8kiRc4KN-a",
        "colab_type": "code",
        "colab": {
          "base_uri": "https://localhost:8080/",
          "height": 233
        },
        "outputId": "e919b101-a302-4640-efb9-36bcda244f31"
      },
      "source": [
        "df.head()"
      ],
      "execution_count": 22,
      "outputs": [
        {
          "output_type": "execute_result",
          "data": {
            "text/html": [
              "<div>\n",
              "<style scoped>\n",
              "    .dataframe tbody tr th:only-of-type {\n",
              "        vertical-align: middle;\n",
              "    }\n",
              "\n",
              "    .dataframe tbody tr th {\n",
              "        vertical-align: top;\n",
              "    }\n",
              "\n",
              "    .dataframe thead th {\n",
              "        text-align: right;\n",
              "    }\n",
              "</style>\n",
              "<table border=\"1\" class=\"dataframe\">\n",
              "  <thead>\n",
              "    <tr style=\"text-align: right;\">\n",
              "      <th></th>\n",
              "      <th>market_value</th>\n",
              "      <th>returns</th>\n",
              "    </tr>\n",
              "    <tr>\n",
              "      <th>date</th>\n",
              "      <th></th>\n",
              "      <th></th>\n",
              "    </tr>\n",
              "  </thead>\n",
              "  <tbody>\n",
              "    <tr>\n",
              "      <th>1994-01-10</th>\n",
              "      <td>3440.58</td>\n",
              "      <td>-0.156704</td>\n",
              "    </tr>\n",
              "    <tr>\n",
              "      <th>1994-01-11</th>\n",
              "      <td>3413.77</td>\n",
              "      <td>-0.779229</td>\n",
              "    </tr>\n",
              "    <tr>\n",
              "      <th>1994-01-12</th>\n",
              "      <td>3372.02</td>\n",
              "      <td>-1.222988</td>\n",
              "    </tr>\n",
              "    <tr>\n",
              "      <th>1994-01-13</th>\n",
              "      <td>3360.01</td>\n",
              "      <td>-0.356166</td>\n",
              "    </tr>\n",
              "    <tr>\n",
              "      <th>1994-01-14</th>\n",
              "      <td>3400.56</td>\n",
              "      <td>1.206842</td>\n",
              "    </tr>\n",
              "  </tbody>\n",
              "</table>\n",
              "</div>"
            ],
            "text/plain": [
              "            market_value   returns\n",
              "date                              \n",
              "1994-01-10       3440.58 -0.156704\n",
              "1994-01-11       3413.77 -0.779229\n",
              "1994-01-12       3372.02 -1.222988\n",
              "1994-01-13       3360.01 -0.356166\n",
              "1994-01-14       3400.56  1.206842"
            ]
          },
          "metadata": {
            "tags": []
          },
          "execution_count": 22
        }
      ]
    },
    {
      "cell_type": "code",
      "metadata": {
        "id": "mxtns8jPKamM",
        "colab_type": "code",
        "colab": {
          "base_uri": "https://localhost:8080/",
          "height": 156
        },
        "outputId": "5c2408c1-62bb-4096-bda9-fae96ec4c77f"
      },
      "source": [
        "sts.adfuller(df.returns)"
      ],
      "execution_count": 23,
      "outputs": [
        {
          "output_type": "execute_result",
          "data": {
            "text/plain": [
              "(-12.770265719497182,\n",
              " 7.798058336040345e-24,\n",
              " 32,\n",
              " 4987,\n",
              " {'1%': -3.431661944885779,\n",
              "  '10%': -2.5670785949998973,\n",
              "  '5%': -2.8621197374408225},\n",
              " 15696.7672456975)"
            ]
          },
          "metadata": {
            "tags": []
          },
          "execution_count": 23
        }
      ]
    },
    {
      "cell_type": "markdown",
      "metadata": {
        "id": "0vJUIgGyhSxZ",
        "colab_type": "text"
      },
      "source": [
        "## The ACF"
      ]
    },
    {
      "cell_type": "code",
      "metadata": {
        "scrolled": true,
        "id": "TUsHOynXhSxa",
        "colab_type": "code",
        "colab": {
          "base_uri": "https://localhost:8080/",
          "height": 289
        },
        "outputId": "8a1940b0-28ed-4206-9779-ca2788610a84"
      },
      "source": [
        "sgt.plot_acf(df.returns, zero = False, lags = 40)\n",
        "plt.title(\"ACF for Prices\", size = 20)\n",
        "plt.show()"
      ],
      "execution_count": 24,
      "outputs": [
        {
          "output_type": "display_data",
          "data": {
            "image/png": "[encoded data removed]",
            "text/plain": [
              "<Figure size 432x288 with 1 Axes>"
            ]
          },
          "metadata": {
            "tags": [],
            "needs_background": "light"
          }
        }
      ]
    },
    {
      "cell_type": "markdown",
      "metadata": {
        "id": "RsumO95shSxg",
        "colab_type": "text"
      },
      "source": [
        "## The PACF"
      ]
    },
    {
      "cell_type": "code",
      "metadata": {
        "scrolled": true,
        "id": "eYP2L3HyhSxh",
        "colab_type": "code",
        "colab": {
          "base_uri": "https://localhost:8080/",
          "height": 289
        },
        "outputId": "97740cfb-fcb6-4b69-bfde-ee3610500d92"
      },
      "source": [
        "sgt.plot_pacf(df.returns, lags = 40, alpha = 0.05, zero = False, method = ('ols'))\n",
        "plt.title(\"PACF for Prices\", size = 20)\n",
        "plt.show()"
      ],
      "execution_count": 25,
      "outputs": [
        {
          "output_type": "display_data",
          "data": {
            "image/png": "[encoded data removed]",
            "text/plain": [
              "<Figure size 432x288 with 1 Axes>"
            ]
          },
          "metadata": {
            "tags": [],
            "needs_background": "light"
          }
        }
      ]
    },
    {
      "cell_type": "markdown",
      "metadata": {
        "id": "nknRusTShSxj",
        "colab_type": "text"
      },
      "source": [
        "## The AR(1) Model"
      ]
    },
    {
      "cell_type": "code",
      "metadata": {
        "id": "W3ELyGtthSxk",
        "colab_type": "code",
        "colab": {}
      },
      "source": [
        "model_ar = ARMA(df.returns, order=(1,0))"
      ],
      "execution_count": 41,
      "outputs": []
    },
    {
      "cell_type": "code",
      "metadata": {
        "id": "jZzDum-phSxm",
        "colab_type": "code",
        "colab": {}
      },
      "source": [
        "results_ar = model_ar.fit()"
      ],
      "execution_count": 42,
      "outputs": []
    },
    {
      "cell_type": "code",
      "metadata": {
        "id": "TqmgtB6VhSxo",
        "colab_type": "code",
        "colab": {
          "base_uri": "https://localhost:8080/",
          "height": 306
        },
        "outputId": "215cd1b2-ef6d-4979-ee42-f9858bffa9f6"
      },
      "source": [
        "results_ar.summary()"
      ],
      "execution_count": 43,
      "outputs": [
        {
          "output_type": "execute_result",
          "data": {
            "text/html": [
              "<table class=\"simpletable\">\n",
              "<caption>ARMA Model Results</caption>\n",
              "<tr>\n",
              "  <th>Dep. Variable:</th>      <td>returns</td>     <th>  No. Observations:  </th>   <td>5020</td>   \n",
              "</tr>\n",
              "<tr>\n",
              "  <th>Model:</th>            <td>ARMA(1, 0)</td>    <th>  Log Likelihood     </th> <td>-7929.749</td>\n",
              "</tr>\n",
              "<tr>\n",
              "  <th>Method:</th>             <td>css-mle</td>     <th>  S.D. of innovations</th>   <td>1.174</td>  \n",
              "</tr>\n",
              "<tr>\n",
              "  <th>Date:</th>          <td>Wed, 05 Aug 2020</td> <th>  AIC                </th> <td>15865.497</td>\n",
              "</tr>\n",
              "<tr>\n",
              "  <th>Time:</th>              <td>01:26:56</td>     <th>  BIC                </th> <td>15885.061</td>\n",
              "</tr>\n",
              "<tr>\n",
              "  <th>Sample:</th>           <td>01-10-1994</td>    <th>  HQIC               </th> <td>15872.353</td>\n",
              "</tr>\n",
              "<tr>\n",
              "  <th></th>                 <td>- 04-05-2013</td>   <th>                     </th>     <td> </td>    \n",
              "</tr>\n",
              "</table>\n",
              "<table class=\"simpletable\">\n",
              "<tr>\n",
              "        <td></td>           <th>coef</th>     <th>std err</th>      <th>z</th>      <th>P>|z|</th>  <th>[0.025</th>    <th>0.975]</th>  \n",
              "</tr>\n",
              "<tr>\n",
              "  <th>const</th>         <td>    0.0188</td> <td>    0.016</td> <td>    1.159</td> <td> 0.247</td> <td>   -0.013</td> <td>    0.051</td>\n",
              "</tr>\n",
              "<tr>\n",
              "  <th>ar.L1.returns</th> <td>   -0.0230</td> <td>    0.014</td> <td>   -1.631</td> <td> 0.103</td> <td>   -0.051</td> <td>    0.005</td>\n",
              "</tr>\n",
              "</table>\n",
              "<table class=\"simpletable\">\n",
              "<caption>Roots</caption>\n",
              "<tr>\n",
              "    <td></td>   <th>            Real</th>  <th>         Imaginary</th> <th>         Modulus</th>  <th>        Frequency</th>\n",
              "</tr>\n",
              "<tr>\n",
              "  <th>AR.1</th> <td>         -43.4386</td> <td>          +0.0000j</td> <td>          43.4386</td> <td>           0.5000</td>\n",
              "</tr>\n",
              "</table>"
            ],
            "text/plain": [
              "<class 'statsmodels.iolib.summary.Summary'>\n",
              "\"\"\"\n",
              "                              ARMA Model Results                              \n",
              "==============================================================================\n",
              "Dep. Variable:                returns   No. Observations:                 5020\n",
              "Model:                     ARMA(1, 0)   Log Likelihood               -7929.749\n",
              "Method:                       css-mle   S.D. of innovations              1.174\n",
              "Date:                Wed, 05 Aug 2020   AIC                          15865.497\n",
              "Time:                        01:26:56   BIC                          15885.061\n",
              "Sample:                    01-10-1994   HQIC                         15872.353\n",
              "                         - 04-05-2013                                         \n",
              "=================================================================================\n",
              "                    coef    std err          z      P>|z|      [0.025      0.975]\n",
              "---------------------------------------------------------------------------------\n",
              "const             0.0188      0.016      1.159      0.247      -0.013       0.051\n",
              "ar.L1.returns    -0.0230      0.014     -1.631      0.103      -0.051       0.005\n",
              "                                    Roots                                    \n",
              "=============================================================================\n",
              "                  Real          Imaginary           Modulus         Frequency\n",
              "-----------------------------------------------------------------------------\n",
              "AR.1          -43.4386           +0.0000j           43.4386            0.5000\n",
              "-----------------------------------------------------------------------------\n",
              "\"\"\""
            ]
          },
          "metadata": {
            "tags": []
          },
          "execution_count": 43
        }
      ]
    },
    {
      "cell_type": "code",
      "metadata": {
        "id": "ZzRCu3GMR5Tt",
        "colab_type": "code",
        "colab": {}
      },
      "source": [
        "results_ar.summary()"
      ],
      "execution_count": null,
      "outputs": []
    },
    {
      "cell_type": "markdown",
      "metadata": {
        "id": "XLOxu2KvhSxr",
        "colab_type": "text"
      },
      "source": [
        "## Higher-Lag AR Models"
      ]
    },
    {
      "cell_type": "code",
      "metadata": {
        "id": "k_h7n2pNhSxs",
        "colab_type": "code",
        "colab": {
          "base_uri": "https://localhost:8080/",
          "height": 347
        },
        "outputId": "0d0a4022-b346-4a3b-d2b3-c433c3d1edc6"
      },
      "source": [
        "model_ar_2 = ARMA(df.returns, order=(2,0))\n",
        "results_ar_2 = model_ar_2.fit()\n",
        "results_ar_2.summary()"
      ],
      "execution_count": 29,
      "outputs": [
        {
          "output_type": "execute_result",
          "data": {
            "text/html": [
              "<table class=\"simpletable\">\n",
              "<caption>ARMA Model Results</caption>\n",
              "<tr>\n",
              "  <th>Dep. Variable:</th>      <td>returns</td>     <th>  No. Observations:  </th>   <td>5020</td>   \n",
              "</tr>\n",
              "<tr>\n",
              "  <th>Model:</th>            <td>ARMA(2, 0)</td>    <th>  Log Likelihood     </th> <td>-7923.456</td>\n",
              "</tr>\n",
              "<tr>\n",
              "  <th>Method:</th>             <td>css-mle</td>     <th>  S.D. of innovations</th>   <td>1.173</td>  \n",
              "</tr>\n",
              "<tr>\n",
              "  <th>Date:</th>          <td>Wed, 05 Aug 2020</td> <th>  AIC                </th> <td>15854.911</td>\n",
              "</tr>\n",
              "<tr>\n",
              "  <th>Time:</th>              <td>01:15:24</td>     <th>  BIC                </th> <td>15880.996</td>\n",
              "</tr>\n",
              "<tr>\n",
              "  <th>Sample:</th>           <td>01-10-1994</td>    <th>  HQIC               </th> <td>15864.052</td>\n",
              "</tr>\n",
              "<tr>\n",
              "  <th></th>                 <td>- 04-05-2013</td>   <th>                     </th>     <td> </td>    \n",
              "</tr>\n",
              "</table>\n",
              "<table class=\"simpletable\">\n",
              "<tr>\n",
              "        <td></td>           <th>coef</th>     <th>std err</th>      <th>z</th>      <th>P>|z|</th>  <th>[0.025</th>    <th>0.975]</th>  \n",
              "</tr>\n",
              "<tr>\n",
              "  <th>const</th>         <td>    0.0188</td> <td>    0.015</td> <td>    1.220</td> <td> 0.222</td> <td>   -0.011</td> <td>    0.049</td>\n",
              "</tr>\n",
              "<tr>\n",
              "  <th>ar.L1.returns</th> <td>   -0.0242</td> <td>    0.014</td> <td>   -1.716</td> <td> 0.086</td> <td>   -0.052</td> <td>    0.003</td>\n",
              "</tr>\n",
              "<tr>\n",
              "  <th>ar.L2.returns</th> <td>   -0.0500</td> <td>    0.014</td> <td>   -3.550</td> <td> 0.000</td> <td>   -0.078</td> <td>   -0.022</td>\n",
              "</tr>\n",
              "</table>\n",
              "<table class=\"simpletable\">\n",
              "<caption>Roots</caption>\n",
              "<tr>\n",
              "    <td></td>   <th>            Real</th>  <th>         Imaginary</th> <th>         Modulus</th>  <th>        Frequency</th>\n",
              "</tr>\n",
              "<tr>\n",
              "  <th>AR.1</th> <td>          -0.2417</td> <td>          -4.4635j</td> <td>           4.4701</td> <td>          -0.2586</td>\n",
              "</tr>\n",
              "<tr>\n",
              "  <th>AR.2</th> <td>          -0.2417</td> <td>          +4.4635j</td> <td>           4.4701</td> <td>           0.2586</td>\n",
              "</tr>\n",
              "</table>"
            ],
            "text/plain": [
              "<class 'statsmodels.iolib.summary.Summary'>\n",
              "\"\"\"\n",
              "                              ARMA Model Results                              \n",
              "==============================================================================\n",
              "Dep. Variable:                returns   No. Observations:                 5020\n",
              "Model:                     ARMA(2, 0)   Log Likelihood               -7923.456\n",
              "Method:                       css-mle   S.D. of innovations              1.173\n",
              "Date:                Wed, 05 Aug 2020   AIC                          15854.911\n",
              "Time:                        01:15:24   BIC                          15880.996\n",
              "Sample:                    01-10-1994   HQIC                         15864.052\n",
              "                         - 04-05-2013                                         \n",
              "=================================================================================\n",
              "                    coef    std err          z      P>|z|      [0.025      0.975]\n",
              "---------------------------------------------------------------------------------\n",
              "const             0.0188      0.015      1.220      0.222      -0.011       0.049\n",
              "ar.L1.returns    -0.0242      0.014     -1.716      0.086      -0.052       0.003\n",
              "ar.L2.returns    -0.0500      0.014     -3.550      0.000      -0.078      -0.022\n",
              "                                    Roots                                    \n",
              "=============================================================================\n",
              "                  Real          Imaginary           Modulus         Frequency\n",
              "-----------------------------------------------------------------------------\n",
              "AR.1           -0.2417           -4.4635j            4.4701           -0.2586\n",
              "AR.2           -0.2417           +4.4635j            4.4701            0.2586\n",
              "-----------------------------------------------------------------------------\n",
              "\"\"\""
            ]
          },
          "metadata": {
            "tags": []
          },
          "execution_count": 29
        }
      ]
    },
    {
      "cell_type": "markdown",
      "metadata": {
        "id": "4xfdGPlZhSx1",
        "colab_type": "text"
      },
      "source": [
        "## LLR Test"
      ]
    },
    {
      "cell_type": "code",
      "metadata": {
        "id": "O0jzuSiShSx2",
        "colab_type": "code",
        "colab": {}
      },
      "source": [
        "def LLR_test(mod_1, mod_2, DF=1):\n",
        "    L1 = mod_1.llf\n",
        "    L2 = mod_2.llf\n",
        "    LR = (2*(L2-L1))\n",
        "    p = chi2.sf(LR, DF).round(3)\n",
        "    return p"
      ],
      "execution_count": 33,
      "outputs": []
    },
    {
      "cell_type": "code",
      "metadata": {
        "id": "au_CTXU3M2TU",
        "colab_type": "code",
        "colab": {
          "base_uri": "https://localhost:8080/",
          "height": 35
        },
        "outputId": "fd4655b7-5f41-48fe-e4da-b8c51166f7f1"
      },
      "source": [
        "LLR_test(results_ar, results_ar_2)"
      ],
      "execution_count": 34,
      "outputs": [
        {
          "output_type": "execute_result",
          "data": {
            "text/plain": [
              "0.0"
            ]
          },
          "metadata": {
            "tags": []
          },
          "execution_count": 34
        }
      ]
    },
    {
      "cell_type": "code",
      "metadata": {
        "id": "M5QbdWvMhSxw",
        "colab_type": "code",
        "colab": {
          "base_uri": "https://localhost:8080/",
          "height": 468
        },
        "outputId": "c0413c8f-90d4-451c-a8c7-f0f619280a91"
      },
      "source": [
        "model_ar_3 = ARMA(df.returns, order=(3,0))\n",
        "results_ar_3 = model_ar_3.fit()\n",
        "print(results_ar_3.summary())\n",
        "print(\"\\nLLR test p-value = \" + str(LLR_test(results_ar_2, results_ar_3)))"
      ],
      "execution_count": 35,
      "outputs": [
        {
          "output_type": "stream",
          "text": [
            "                              ARMA Model Results                              \n",
            "==============================================================================\n",
            "Dep. Variable:                returns   No. Observations:                 5020\n",
            "Model:                     ARMA(3, 0)   Log Likelihood               -7906.738\n",
            "Method:                       css-mle   S.D. of innovations              1.169\n",
            "Date:                Wed, 05 Aug 2020   AIC                          15823.477\n",
            "Time:                        01:20:20   BIC                          15856.083\n",
            "Sample:                    01-10-1994   HQIC                         15834.902\n",
            "                         - 04-05-2013                                         \n",
            "=================================================================================\n",
            "                    coef    std err          z      P>|z|      [0.025      0.975]\n",
            "---------------------------------------------------------------------------------\n",
            "const             0.0189      0.014      1.330      0.184      -0.009       0.047\n",
            "ar.L1.returns    -0.0283      0.014     -2.011      0.044      -0.056      -0.001\n",
            "ar.L2.returns    -0.0521      0.014     -3.705      0.000      -0.080      -0.025\n",
            "ar.L3.returns    -0.0815      0.014     -5.792      0.000      -0.109      -0.054\n",
            "                                    Roots                                    \n",
            "=============================================================================\n",
            "                  Real          Imaginary           Modulus         Frequency\n",
            "-----------------------------------------------------------------------------\n",
            "AR.1            0.9233           -2.0210j            2.2219           -0.1818\n",
            "AR.2            0.9233           +2.0210j            2.2219            0.1818\n",
            "AR.3           -2.4855           -0.0000j            2.4855           -0.5000\n",
            "-----------------------------------------------------------------------------\n",
            "\n",
            "LLR test p-value = 0.0\n"
          ],
          "name": "stdout"
        }
      ]
    },
    {
      "cell_type": "code",
      "metadata": {
        "id": "pR8lOUMPhSxy",
        "colab_type": "code",
        "colab": {
          "base_uri": "https://localhost:8080/",
          "height": 503
        },
        "outputId": "5196ca95-0568-4fb3-ce10-1df0f32867dd"
      },
      "source": [
        "model_ar_4 = ARMA(df.returns, order=[4,0])\n",
        "results_ar_4 = model_ar_4.fit()\n",
        "print(results_ar_4.summary())\n",
        "print(\"\\nLLR test p-value = \" + str(LLR_test(results_ar_3, results_ar_4)))"
      ],
      "execution_count": 36,
      "outputs": [
        {
          "output_type": "stream",
          "text": [
            "                              ARMA Model Results                              \n",
            "==============================================================================\n",
            "Dep. Variable:                returns   No. Observations:                 5020\n",
            "Model:                     ARMA(4, 0)   Log Likelihood               -7901.330\n",
            "Method:                       css-mle   S.D. of innovations              1.168\n",
            "Date:                Wed, 05 Aug 2020   AIC                          15814.661\n",
            "Time:                        01:20:47   BIC                          15853.788\n",
            "Sample:                    01-10-1994   HQIC                         15828.371\n",
            "                         - 04-05-2013                                         \n",
            "=================================================================================\n",
            "                    coef    std err          z      P>|z|      [0.025      0.975]\n",
            "---------------------------------------------------------------------------------\n",
            "const             0.0188      0.015      1.267      0.205      -0.010       0.048\n",
            "ar.L1.returns    -0.0245      0.014     -1.739      0.082      -0.052       0.003\n",
            "ar.L2.returns    -0.0496      0.014     -3.531      0.000      -0.077      -0.022\n",
            "ar.L3.returns    -0.0802      0.014     -5.701      0.000      -0.108      -0.053\n",
            "ar.L4.returns     0.0464      0.014      3.291      0.001       0.019       0.074\n",
            "                                    Roots                                    \n",
            "=============================================================================\n",
            "                  Real          Imaginary           Modulus         Frequency\n",
            "-----------------------------------------------------------------------------\n",
            "AR.1           -1.8888           -0.0000j            1.8888           -0.5000\n",
            "AR.2            0.3231           -1.9331j            1.9599           -0.2236\n",
            "AR.3            0.3231           +1.9331j            1.9599            0.2236\n",
            "AR.4            2.9701           -0.0000j            2.9701           -0.0000\n",
            "-----------------------------------------------------------------------------\n",
            "\n",
            "LLR test p-value = 0.001\n"
          ],
          "name": "stdout"
        }
      ]
    },
    {
      "cell_type": "code",
      "metadata": {
        "id": "YKKNFjRchSx_",
        "colab_type": "code",
        "colab": {
          "base_uri": "https://localhost:8080/",
          "height": 537
        },
        "outputId": "88008f2f-6373-428d-b504-155510a58624"
      },
      "source": [
        "model_ar_5 = ARMA(df.returns, order=(5,0))\n",
        "results_ar_5 = model_ar_5.fit()\n",
        "print(results_ar_5.summary())\n",
        "print(\"\\nLLR test p-value = \" + str(LLR_test(results_ar_4, results_ar_5)))"
      ],
      "execution_count": 38,
      "outputs": [
        {
          "output_type": "stream",
          "text": [
            "                              ARMA Model Results                              \n",
            "==============================================================================\n",
            "Dep. Variable:                returns   No. Observations:                 5020\n",
            "Model:                     ARMA(5, 0)   Log Likelihood               -7892.390\n",
            "Method:                       css-mle   S.D. of innovations              1.166\n",
            "Date:                Wed, 05 Aug 2020   AIC                          15798.779\n",
            "Time:                        01:21:21   BIC                          15844.428\n",
            "Sample:                    01-10-1994   HQIC                         15814.775\n",
            "                         - 04-05-2013                                         \n",
            "=================================================================================\n",
            "                    coef    std err          z      P>|z|      [0.025      0.975]\n",
            "---------------------------------------------------------------------------------\n",
            "const             0.0189      0.014      1.348      0.178      -0.009       0.046\n",
            "ar.L1.returns    -0.0217      0.014     -1.544      0.123      -0.049       0.006\n",
            "ar.L2.returns    -0.0544      0.014     -3.865      0.000      -0.082      -0.027\n",
            "ar.L3.returns    -0.0831      0.014     -5.914      0.000      -0.111      -0.056\n",
            "ar.L4.returns     0.0449      0.014      3.190      0.001       0.017       0.073\n",
            "ar.L5.returns    -0.0596      0.014     -4.232      0.000      -0.087      -0.032\n",
            "                                    Roots                                    \n",
            "=============================================================================\n",
            "                  Real          Imaginary           Modulus         Frequency\n",
            "-----------------------------------------------------------------------------\n",
            "AR.1           -1.5481           -0.0000j            1.5481           -0.5000\n",
            "AR.2           -0.2860           -1.7252j            1.7487           -0.2761\n",
            "AR.3           -0.2860           +1.7252j            1.7487            0.2761\n",
            "AR.4            1.4366           -1.2157j            1.8819           -0.1118\n",
            "AR.5            1.4366           +1.2157j            1.8819            0.1118\n",
            "-----------------------------------------------------------------------------\n",
            "\n",
            "LLR test p-value = 0.0\n"
          ],
          "name": "stdout"
        }
      ]
    },
    {
      "cell_type": "code",
      "metadata": {
        "id": "H0bp0wV-hSyB",
        "colab_type": "code",
        "colab": {
          "base_uri": "https://localhost:8080/",
          "height": 572
        },
        "outputId": "8cb2db87-1974-46c1-cd0f-9e296bcd9e8f"
      },
      "source": [
        "model_ar_6 = ARMA(df.returns, order=(6,0))\n",
        "results_ar_6 = model_ar_6.fit()\n",
        "print(results_ar_6.summary())\n",
        "print(\"\\nLLR test p-value = \" + str(LLR_test(results_ar_5, results_ar_6)))"
      ],
      "execution_count": 39,
      "outputs": [
        {
          "output_type": "stream",
          "text": [
            "                              ARMA Model Results                              \n",
            "==============================================================================\n",
            "Dep. Variable:                returns   No. Observations:                 5020\n",
            "Model:                     ARMA(6, 0)   Log Likelihood               -7886.945\n",
            "Method:                       css-mle   S.D. of innovations              1.164\n",
            "Date:                Wed, 05 Aug 2020   AIC                          15789.890\n",
            "Time:                        01:21:33   BIC                          15842.059\n",
            "Sample:                    01-10-1994   HQIC                         15808.170\n",
            "                         - 04-05-2013                                         \n",
            "=================================================================================\n",
            "                    coef    std err          z      P>|z|      [0.025      0.975]\n",
            "---------------------------------------------------------------------------------\n",
            "const             0.0189      0.013      1.414      0.157      -0.007       0.045\n",
            "ar.L1.returns    -0.0245      0.014     -1.740      0.082      -0.052       0.003\n",
            "ar.L2.returns    -0.0523      0.014     -3.716      0.000      -0.080      -0.025\n",
            "ar.L3.returns    -0.0870      0.014     -6.174      0.000      -0.115      -0.059\n",
            "ar.L4.returns     0.0424      0.014      3.009      0.003       0.015       0.070\n",
            "ar.L5.returns    -0.0607      0.014     -4.309      0.000      -0.088      -0.033\n",
            "ar.L6.returns    -0.0466      0.014     -3.302      0.001      -0.074      -0.019\n",
            "                                    Roots                                    \n",
            "=============================================================================\n",
            "                  Real          Imaginary           Modulus         Frequency\n",
            "-----------------------------------------------------------------------------\n",
            "AR.1            1.2869           -0.9022j            1.5716           -0.0973\n",
            "AR.2            1.2869           +0.9022j            1.5716            0.0973\n",
            "AR.3           -0.0727           -1.5282j            1.5299           -0.2576\n",
            "AR.4           -0.0727           +1.5282j            1.5299            0.2576\n",
            "AR.5           -1.8659           -0.4836j            1.9275           -0.4596\n",
            "AR.6           -1.8659           +0.4836j            1.9275            0.4596\n",
            "-----------------------------------------------------------------------------\n",
            "\n",
            "LLR test p-value = 0.001\n"
          ],
          "name": "stdout"
        }
      ]
    },
    {
      "cell_type": "code",
      "metadata": {
        "id": "Wxio25zOhSyE",
        "colab_type": "code",
        "colab": {
          "base_uri": "https://localhost:8080/",
          "height": 607
        },
        "outputId": "b1fa37e7-c546-4230-d58c-eb4e1cb0417b"
      },
      "source": [
        "model_ar_7 = ARMA(df.returns, order=(7,0))\n",
        "results_ar_7 = model_ar_7.fit()\n",
        "print(results_ar_7.summary())\n",
        "print(\"\\nLLR test p-value = \" + str(LLR_test(results_ar_6, results_ar_7)))"
      ],
      "execution_count": 40,
      "outputs": [
        {
          "output_type": "stream",
          "text": [
            "                              ARMA Model Results                              \n",
            "==============================================================================\n",
            "Dep. Variable:                returns   No. Observations:                 5020\n",
            "Model:                     ARMA(7, 0)   Log Likelihood               -7886.647\n",
            "Method:                       css-mle   S.D. of innovations              1.164\n",
            "Date:                Wed, 05 Aug 2020   AIC                          15791.294\n",
            "Time:                        01:21:54   BIC                          15849.985\n",
            "Sample:                    01-10-1994   HQIC                         15811.860\n",
            "                         - 04-05-2013                                         \n",
            "=================================================================================\n",
            "                    coef    std err          z      P>|z|      [0.025      0.975]\n",
            "---------------------------------------------------------------------------------\n",
            "const             0.0189      0.014      1.399      0.162      -0.008       0.045\n",
            "ar.L1.returns    -0.0240      0.014     -1.702      0.089      -0.052       0.004\n",
            "ar.L2.returns    -0.0517      0.014     -3.663      0.000      -0.079      -0.024\n",
            "ar.L3.returns    -0.0874      0.014     -6.202      0.000      -0.115      -0.060\n",
            "ar.L4.returns     0.0433      0.014      3.064      0.002       0.016       0.071\n",
            "ar.L5.returns    -0.0601      0.014     -4.263      0.000      -0.088      -0.032\n",
            "ar.L6.returns    -0.0463      0.014     -3.282      0.001      -0.074      -0.019\n",
            "ar.L7.returns     0.0109      0.014      0.772      0.440      -0.017       0.039\n",
            "                                    Roots                                    \n",
            "=============================================================================\n",
            "                  Real          Imaginary           Modulus         Frequency\n",
            "-----------------------------------------------------------------------------\n",
            "AR.1           -1.6490           -0.5384j            1.7347           -0.4498\n",
            "AR.2           -1.6490           +0.5384j            1.7347            0.4498\n",
            "AR.3           -0.1189           -1.4954j            1.5001           -0.2626\n",
            "AR.4           -0.1189           +1.4954j            1.5001            0.2626\n",
            "AR.5            1.2790           -0.9786j            1.6105           -0.1039\n",
            "AR.6            1.2790           +0.9786j            1.6105            0.1039\n",
            "AR.7            5.2270           -0.0000j            5.2270           -0.0000\n",
            "-----------------------------------------------------------------------------\n",
            "\n",
            "LLR test p-value = 0.44\n"
          ],
          "name": "stdout"
        }
      ]
    },
    {
      "cell_type": "markdown",
      "metadata": {
        "id": "h-hIBV_zhSyK",
        "colab_type": "text"
      },
      "source": [
        "## Analysing the Residuals of model 1\n"
      ]
    },
    {
      "cell_type": "code",
      "metadata": {
        "id": "86SgBdeghSyK",
        "colab_type": "code",
        "colab": {}
      },
      "source": [
        "df['res_price'] = results_ar.resid"
      ],
      "execution_count": 44,
      "outputs": []
    },
    {
      "cell_type": "code",
      "metadata": {
        "id": "OjEHClWJhSyR",
        "colab_type": "code",
        "colab": {
          "base_uri": "https://localhost:8080/",
          "height": 156
        },
        "outputId": "e40d6558-53cf-443d-dd60-3e9fba727ea2"
      },
      "source": [
        "sts.adfuller(df.res_price)"
      ],
      "execution_count": 45,
      "outputs": [
        {
          "output_type": "execute_result",
          "data": {
            "text/plain": [
              "(-12.782789959972796,\n",
              " 7.354232414325527e-24,\n",
              " 32,\n",
              " 4987,\n",
              " {'1%': -3.431661944885779,\n",
              "  '10%': -2.5670785949998973,\n",
              "  '5%': -2.8621197374408225},\n",
              " 15696.449407720838)"
            ]
          },
          "metadata": {
            "tags": []
          },
          "execution_count": 45
        }
      ]
    },
    {
      "cell_type": "code",
      "metadata": {
        "id": "N4u2meHKhSyT",
        "colab_type": "code",
        "colab": {
          "base_uri": "https://localhost:8080/",
          "height": 293
        },
        "outputId": "d9bf32c3-c9c2-46b9-d36a-efd363eeb6ba"
      },
      "source": [
        "sgt.plot_acf(df.res_price, zero = False, lags = 40)\n",
        "plt.title(\"ACF Of Residuals for Prices\",size=24)\n",
        "plt.show()"
      ],
      "execution_count": 46,
      "outputs": [
        {
          "output_type": "display_data",
          "data": {
            "image/png": "[encoded data removed]",
            "text/plain": [
              "<Figure size 432x288 with 1 Axes>"
            ]
          },
          "metadata": {
            "tags": [],
            "needs_background": "light"
          }
        }
      ]
    },
    {
      "cell_type": "code",
      "metadata": {
        "id": "d7L9EVkRhSyV",
        "colab_type": "code",
        "colab": {
          "base_uri": "https://localhost:8080/",
          "height": 272
        },
        "outputId": "1853a7f3-5252-4dd9-9b36-a15b55894352"
      },
      "source": [
        "df.res_price[1:].plot(figsize=(20,5))\n",
        "plt.title(\"Residuals of Prices\",size=24)\n",
        "plt.show()"
      ],
      "execution_count": 47,
      "outputs": [
        {
          "output_type": "display_data",
          "data": {
            "image/png": "[encoded data removed]",
            "text/plain": [
              "<Figure size 1440x360 with 1 Axes>"
            ]
          },
          "metadata": {
            "tags": [],
            "needs_background": "light"
          }
        }
      ]
    },
    {
      "cell_type": "code",
      "metadata": {
        "id": "NbKvOT_bJ9R4",
        "colab_type": "code",
        "colab": {
          "base_uri": "https://localhost:8080/",
          "height": 35
        },
        "outputId": "fe8e0592-0369-46a6-e022-b6b99b6f4b28"
      },
      "source": [
        "LLR_test(results_ar_2, results_ar_6, DF=4)"
      ],
      "execution_count": 49,
      "outputs": [
        {
          "output_type": "execute_result",
          "data": {
            "text/plain": [
              "0.0"
            ]
          },
          "metadata": {
            "tags": []
          },
          "execution_count": 49
        }
      ]
    },
    {
      "cell_type": "code",
      "metadata": {
        "id": "8muES0hmTo9F",
        "colab_type": "code",
        "colab": {}
      },
      "source": [
        ""
      ],
      "execution_count": null,
      "outputs": []
    }
  ]
}